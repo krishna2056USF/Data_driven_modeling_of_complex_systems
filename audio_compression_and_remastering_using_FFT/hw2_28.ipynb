{
 "cells": [
  {
   "cell_type": "code",
   "execution_count": null,
   "metadata": {},
   "outputs": [],
   "source": [
    "import numpy as np\n",
    "import scipy.io.wavfile as wavfile\n",
    "import matplotlib.pyplot as plt\n",
    "\n",
    "# Load the audio file (replace with your file path)\n",
    "rate, audio_data = wavfile.read(\"your_audio.wav\")\n",
    "\n",
    "# Convert stereo to mono (if needed)\n",
    "if audio_data.ndim > 1:\n",
    "    audio_data = audio_data[:, 0]\n",
    "\n",
    "# Compute the FFT\n",
    "fft_result = np.fft.fft(audio_data)\n",
    "\n",
    "# Calculate the magnitude spectrum\n",
    "magnitude_spectrum = np.abs(fft_result)\n",
    "\n",
    "# Frequency bins (in Hz)\n",
    "freq_bins = np.fft.fftfreq(len(audio_data), d=1 / rate)\n",
    "\n",
    "# Plot the magnitude spectrum\n",
    "plt.figure(figsize=(10, 6))\n",
    "plt.plot(freq_bins, magnitude_spectrum)\n",
    "plt.xlabel(\"Frequency (Hz)\")\n",
    "plt.ylabel(\"Magnitude\")\n",
    "plt.title(\"Magnitude Spectrum\")\n",
    "plt.grid(True)\n",
    "plt.show()\n"
   ]
  }
 ],
 "metadata": {
  "language_info": {
   "name": "python"
  }
 },
 "nbformat": 4,
 "nbformat_minor": 2
}
